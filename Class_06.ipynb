{
 "cells": [
  {
   "cell_type": "markdown",
   "id": "a4e1c6bd",
   "metadata": {},
   "source": [
    "## List in Dictionary \n",
    "## Dictionary in List\n",
    "## Dictionary in Dictionary"
   ]
  },
  {
   "cell_type": "code",
   "execution_count": 1,
   "id": "c339ebaf",
   "metadata": {},
   "outputs": [],
   "source": [
    "# List in a dictionary\n",
    "result= {\"roll\": [1,2,3,4,5,6,7,8,9,10],\n",
    "         \"name\": [\"Ali\", \"Saad\", \"Umer\", \"Hassan\", \"Bilal\", \"Ahmed\", \"Faiz\", \"Jami\", \"Saad\", \"Waqas\"],\n",
    "         \"Course\": [\"Python\", \"Stats\", \"ML\", \"AI\", \"Python\", \"Stats\", \"ML\", \"AI\", \"AI\", \"Python\"],\n",
    "         \"Marks\":[78,68,98,87,90,98,97,67,56,76]}"
   ]
  },
  {
   "cell_type": "code",
   "execution_count": 2,
   "id": "4e2dd5d8",
   "metadata": {},
   "outputs": [
    {
     "data": {
      "text/plain": [
       "{'roll': [1, 2, 3, 4, 5, 6, 7, 8, 9, 10],\n",
       " 'name': ['Ali',\n",
       "  'Saad',\n",
       "  'Umer',\n",
       "  'Hassan',\n",
       "  'Bilal',\n",
       "  'Ahmed',\n",
       "  'Faiz',\n",
       "  'Jami',\n",
       "  'Saad',\n",
       "  'Waqas'],\n",
       " 'Course': ['Python',\n",
       "  'Stats',\n",
       "  'ML',\n",
       "  'AI',\n",
       "  'Python',\n",
       "  'Stats',\n",
       "  'ML',\n",
       "  'AI',\n",
       "  'AI',\n",
       "  'Python'],\n",
       " 'Marks': [78, 68, 98, 87, 90, 98, 97, 67, 56, 76]}"
      ]
     },
     "execution_count": 2,
     "metadata": {},
     "output_type": "execute_result"
    }
   ],
   "source": [
    "result"
   ]
  },
  {
   "cell_type": "code",
   "execution_count": 3,
   "id": "9b532cc3",
   "metadata": {},
   "outputs": [
    {
     "data": {
      "text/plain": [
       "'d'"
      ]
     },
     "execution_count": 3,
     "metadata": {},
     "output_type": "execute_result"
    }
   ],
   "source": [
    "result[\"name\"][5][-1]"
   ]
  },
  {
   "cell_type": "code",
   "execution_count": 4,
   "id": "c3c23ed1",
   "metadata": {},
   "outputs": [
    {
     "data": {
      "text/plain": [
       "[98, 87, 90]"
      ]
     },
     "execution_count": 4,
     "metadata": {},
     "output_type": "execute_result"
    }
   ],
   "source": [
    "result[\"Marks\"][2:5]"
   ]
  },
  {
   "cell_type": "code",
   "execution_count": 5,
   "id": "76f6ef34",
   "metadata": {},
   "outputs": [],
   "source": [
    "#Dictionary in dictionary\n",
    "dic_in_dic= {\"student_1\":{\"name\":\"Nasir\", \"roll\": 123, \"course\":\"python\"},\n",
    "             \"student_2\":{\"name\":\"Yasir\", \"roll\": 124, \"course\":\"python\"},\n",
    "             \"student_3\":{\"name\":\"Yasin\", \"roll\": 125, \"course\":\"python\"}}"
   ]
  },
  {
   "cell_type": "code",
   "execution_count": 6,
   "id": "c6913647",
   "metadata": {},
   "outputs": [
    {
     "data": {
      "text/plain": [
       "'Yasir'"
      ]
     },
     "execution_count": 6,
     "metadata": {},
     "output_type": "execute_result"
    }
   ],
   "source": [
    "dic_in_dic[\"student_2\"][\"name\"]"
   ]
  },
  {
   "cell_type": "code",
   "execution_count": 7,
   "id": "3a79dad8",
   "metadata": {},
   "outputs": [
    {
     "data": {
      "text/plain": [
       "'python'"
      ]
     },
     "execution_count": 7,
     "metadata": {},
     "output_type": "execute_result"
    }
   ],
   "source": [
    "dic_in_dic[\"student_3\"][\"course\"]"
   ]
  },
  {
   "cell_type": "markdown",
   "id": "e88cc62a",
   "metadata": {},
   "source": [
    "# Tuple\n",
    "- immutable\n",
    "- iterable\n",
    "- (v1,v2,v3)"
   ]
  },
  {
   "cell_type": "code",
   "execution_count": 8,
   "id": "a4eb76d5",
   "metadata": {},
   "outputs": [
    {
     "name": "stdout",
     "output_type": "stream",
     "text": [
      "<class 'tuple'>\n"
     ]
    }
   ],
   "source": [
    "#empty tuple\n",
    "atuple=()\n",
    "print(type(atuple))"
   ]
  },
  {
   "cell_type": "code",
   "execution_count": 9,
   "id": "f25b5af3",
   "metadata": {},
   "outputs": [
    {
     "data": {
      "text/plain": [
       "0"
      ]
     },
     "execution_count": 9,
     "metadata": {},
     "output_type": "execute_result"
    }
   ],
   "source": [
    "len(atuple)"
   ]
  },
  {
   "cell_type": "code",
   "execution_count": 10,
   "id": "3d5c4628",
   "metadata": {},
   "outputs": [
    {
     "ename": "SyntaxError",
     "evalue": "invalid syntax (86193253.py, line 1)",
     "output_type": "error",
     "traceback": [
      "\u001b[1;36m  Cell \u001b[1;32mIn[10], line 1\u001b[1;36m\u001b[0m\n\u001b[1;33m    atuple[]=\"ALI\"\u001b[0m\n\u001b[1;37m           ^\u001b[0m\n\u001b[1;31mSyntaxError\u001b[0m\u001b[1;31m:\u001b[0m invalid syntax\n"
     ]
    }
   ],
   "source": [
    "atuple[]=\"ALI\""
   ]
  },
  {
   "cell_type": "code",
   "execution_count": null,
   "id": "8eea3251",
   "metadata": {},
   "outputs": [],
   "source": [
    "btuple=(11,22,33,44,55)"
   ]
  },
  {
   "cell_type": "code",
   "execution_count": null,
   "id": "3519cf9d",
   "metadata": {},
   "outputs": [],
   "source": [
    "btuple[3]=30"
   ]
  },
  {
   "cell_type": "code",
   "execution_count": null,
   "id": "496e98fc",
   "metadata": {},
   "outputs": [],
   "source": [
    "del btuple[3]"
   ]
  },
  {
   "cell_type": "code",
   "execution_count": null,
   "id": "d7ca9ef5",
   "metadata": {},
   "outputs": [],
   "source": [
    "ctuple=(23)\n",
    "print(type(ctuple))"
   ]
  },
  {
   "cell_type": "code",
   "execution_count": null,
   "id": "34b752a8",
   "metadata": {},
   "outputs": [],
   "source": [
    "ctuple= (23,)\n",
    "print(type(ctuple))"
   ]
  },
  {
   "cell_type": "markdown",
   "id": "7e497bf8",
   "metadata": {},
   "source": [
    "# Set\n",
    "- mutable\n",
    "- {}\n",
    "- remove repeated values\n"
   ]
  },
  {
   "cell_type": "code",
   "execution_count": null,
   "id": "7e52023c",
   "metadata": {},
   "outputs": [],
   "source": [
    "aset={}\n",
    "type(aset)"
   ]
  },
  {
   "cell_type": "code",
   "execution_count": null,
   "id": "5dc7c85d",
   "metadata": {},
   "outputs": [],
   "source": [
    "set([1,2,3,4,5,6])"
   ]
  },
  {
   "cell_type": "code",
   "execution_count": null,
   "id": "60b13c52",
   "metadata": {},
   "outputs": [],
   "source": [
    "tuple([1,2,3,4,5,6])"
   ]
  },
  {
   "cell_type": "code",
   "execution_count": null,
   "id": "ad756c8a",
   "metadata": {},
   "outputs": [],
   "source": [
    "aset= set([1,2,3,4,5])"
   ]
  },
  {
   "cell_type": "code",
   "execution_count": null,
   "id": "4075e3e8",
   "metadata": {},
   "outputs": [],
   "source": [
    "fruits= \"mango\", \"banana\"\n",
    "fruits"
   ]
  },
  {
   "cell_type": "code",
   "execution_count": null,
   "id": "a5528350",
   "metadata": {},
   "outputs": [],
   "source": [
    "print(\"mango\"), print(\"apple\")"
   ]
  },
  {
   "cell_type": "code",
   "execution_count": null,
   "id": "991e8886",
   "metadata": {},
   "outputs": [],
   "source": [
    "type(fruits)"
   ]
  },
  {
   "cell_type": "code",
   "execution_count": null,
   "id": "8c701025",
   "metadata": {},
   "outputs": [],
   "source": [
    "aset= {1,2,3,4,4,5,6,7,6,8,9}"
   ]
  },
  {
   "cell_type": "code",
   "execution_count": null,
   "id": "68f83139",
   "metadata": {},
   "outputs": [],
   "source": [
    " aset"
   ]
  },
  {
   "cell_type": "markdown",
   "id": "b6244231",
   "metadata": {},
   "source": [
    "## conditional statement/ if statement/ if clause\n",
    "- if\n",
    "- if else\n",
    "- multiple conditions\n",
    "- nested conditions"
   ]
  },
  {
   "cell_type": "code",
   "execution_count": null,
   "id": "61d7d9ef",
   "metadata": {},
   "outputs": [],
   "source": [
    "tomato_price= float(input(\"What is the price per kg? \"))\n",
    "if tomato_price > 100:\n",
    "    print(\"1 Kg dedo\")\n",
    "        \n",
    "else:\n",
    "    print(\"2 Kg dedo\")\n"
   ]
  },
  {
   "cell_type": "code",
   "execution_count": null,
   "id": "9261992e",
   "metadata": {},
   "outputs": [],
   "source": [
    "age= float(input(\"Tell me your age: \"))\n",
    "if age > 18:\n",
    "    print(\"Vote dal skte hen\")\n",
    "    print(\"NIC ban skta he\")\n",
    "    print(\"Driving licence\")\n",
    "    print(\"shaddi hoskti he\")\n",
    "    print(\"Account open hoskta he\")\n",
    "else:\n",
    "    print(\"Tie Tie fish-----\")\n",
    "    print(\"Moye___Moye....\")"
   ]
  },
  {
   "cell_type": "code",
   "execution_count": null,
   "id": "f3031aa9",
   "metadata": {},
   "outputs": [],
   "source": [
    "marks= float(input(\"Enter your marks: \"))\n",
    "if marks >=50:\n",
    "    print(\"Pass\")\n",
    "else:\n",
    "    print(\"Fail\")"
   ]
  },
  {
   "cell_type": "code",
   "execution_count": 16,
   "id": "735eeead",
   "metadata": {},
   "outputs": [],
   "source": [
    "guest_list=[\"ali\", \"hassan\", \"rashid\", \"kamran\", \"faisal\", \"ahmed\", \"ashraf\"]"
   ]
  },
  {
   "cell_type": "code",
   "execution_count": 17,
   "id": "0074c7a0",
   "metadata": {},
   "outputs": [
    {
     "ename": "NameError",
     "evalue": "name 'guest' is not defined",
     "output_type": "error",
     "traceback": [
      "\u001b[1;31m---------------------------------------------------------------------------\u001b[0m",
      "\u001b[1;31mNameError\u001b[0m                                 Traceback (most recent call last)",
      "Cell \u001b[1;32mIn[17], line 1\u001b[0m\n\u001b[1;32m----> 1\u001b[0m \u001b[38;5;124m\"\u001b[39m\u001b[38;5;124mAli\u001b[39m\u001b[38;5;124m\"\u001b[39m \u001b[38;5;129;01min\u001b[39;00m guest\n",
      "\u001b[1;31mNameError\u001b[0m: name 'guest' is not defined"
     ]
    }
   ],
   "source": [
    "\"Ali\" in guest"
   ]
  },
  {
   "cell_type": "code",
   "execution_count": 18,
   "id": "69e86899",
   "metadata": {},
   "outputs": [
    {
     "name": "stdout",
     "output_type": "stream",
     "text": [
      "Please tell me your name: Ali\n",
      "You are Welcome!\n"
     ]
    }
   ],
   "source": [
    "guest_name=input(\"Please tell me your name: \").lower()\n",
    "if guest_name in guest_list:\n",
    "    print(\"You are Welcome!\")\n",
    "else:\n",
    "    print(\"Your name is not in list.\")"
   ]
  },
  {
   "cell_type": "code",
   "execution_count": 20,
   "id": "700334c8",
   "metadata": {},
   "outputs": [
    {
     "name": "stdout",
     "output_type": "stream",
     "text": [
      "Pls tell me your nameabdullah\n",
      "You are welcome, Pls take front seat.\n"
     ]
    }
   ],
   "source": [
    "guest_name= input(\"Pls tell me your name\")\n",
    "if guest_name.startswith(\"a\"):\n",
    "    print(\"You are welcome, Pls take front seat.\")\n",
    "    \n",
    "else:\n",
    "    print(\"You can sit after first row.\")"
   ]
  },
  {
   "cell_type": "code",
   "execution_count": null,
   "id": "02d4f4b5",
   "metadata": {},
   "outputs": [],
   "source": []
  }
 ],
 "metadata": {
  "kernelspec": {
   "display_name": "Python 3 (ipykernel)",
   "language": "python",
   "name": "python3"
  },
  "language_info": {
   "codemirror_mode": {
    "name": "ipython",
    "version": 3
   },
   "file_extension": ".py",
   "mimetype": "text/x-python",
   "name": "python",
   "nbconvert_exporter": "python",
   "pygments_lexer": "ipython3",
   "version": "3.11.5"
  }
 },
 "nbformat": 4,
 "nbformat_minor": 5
}
