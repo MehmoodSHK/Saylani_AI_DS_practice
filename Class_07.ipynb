{
 "cells": [
  {
   "cell_type": "markdown",
   "id": "6e00fab4",
   "metadata": {},
   "source": [
    "# Multiple  if else (elif)\n",
    "     -a condition after a condition "
   ]
  },
  {
   "cell_type": "raw",
   "id": "da5f60fb",
   "metadata": {},
   "source": [
    "price====> less than 50 buy 10kg\n",
    "price====> less than 100 buy 5kg\n",
    "price====> less than 200 buy 3kg\n",
    "price====> less than 300 buy 2kg\n",
    "price====> less than 500 buy 1kg\n",
    "\n",
    "----------------------------------\n",
    "\n",
    "price  greater than 500 buy 1kg\n",
    "price greater than 300 but 2kg\n",
    "price greater than 200 but 3kg\n",
    "price greater than 100 but 5kg\n",
    "price greater than 50 but 10kg"
   ]
  },
  {
   "cell_type": "code",
   "execution_count": 1,
   "id": "fff16a96",
   "metadata": {},
   "outputs": [
    {
     "name": "stdout",
     "output_type": "stream",
     "text": [
      "what is the price per kg? 5553\n",
      "Since price are 5553. Please give me 1Kg\n"
     ]
    }
   ],
   "source": [
    "tomato_price= int(input(\"what is the price per kg? \"))\n",
    "kgs=None\n",
    "if tomato_price >= 500:\n",
    "    kgs = 1\n",
    "elif tomato_price >= 300:\n",
    "        kgs = 2\n",
    "elif tomato_price >= 200:\n",
    "        kgs = 3\n",
    "elif tomato_price >= 100:\n",
    "        kgs = 5\n",
    "else:\n",
    "    kgs=10\n",
    "print(f\"Since price are {tomato_price}. Please give me {kgs}Kg\")\n",
    "#print(kgs)"
   ]
  },
  {
   "cell_type": "code",
   "execution_count": 2,
   "id": "b18ce5c1",
   "metadata": {},
   "outputs": [
    {
     "name": "stdout",
     "output_type": "stream",
     "text": [
      "Enter the price of iteam: 4131\n",
      "Enter the price of iteam: 41314\n",
      "Enter the price of iteam: 153141\n",
      "Enter the price of iteam: 5511\n",
      "Enter the price of iteam: 4413\n",
      "\n",
      "\n",
      "        ABC Store\n",
      "        \n",
      "------------------------------\n",
      "        iteam1: 4131.0\n",
      "        iteam2: 41314.0\n",
      "        iteam3: 153141.0\n",
      "        iteam4: 5511.0\n",
      "        iteam5: 4413.0\n",
      "        \n",
      "        Total bill is:          208510.0\n",
      "        Discount applied:       31276.5 \n",
      "        Payable after discount: 177233.5 \n",
      "        \n",
      "        Thankyou for shopping with us!\n",
      "        \n",
      "        \n"
     ]
    }
   ],
   "source": [
    "iteam1= float(input(\"Enter the price of iteam: \"))\n",
    "iteam2= float(input(\"Enter the price of iteam: \"))\n",
    "iteam3= float(input(\"Enter the price of iteam: \"))\n",
    "iteam4= float(input(\"Enter the price of iteam: \"))\n",
    "iteam5= float(input(\"Enter the price of iteam: \"))\n",
    "total_bill=iteam1 + iteam2 + iteam3 + iteam4 + iteam5 \n",
    "#if total_bill is\n",
    "#greater than 15000 discount 15%\n",
    "#greater than 10000 discount 10%\n",
    "#greater than 5000 discount 05%\n",
    "#greater than 3000 discount 03%\n",
    "discount = None\n",
    "if total_bill > 15000:\n",
    "    discount = total_bill * 0.15\n",
    "elif total_bill > 10000:\n",
    "    discount = total_bill * 0.10\n",
    "elif total_bill > 5000:\n",
    "    discount = total_bill * 0.05\n",
    "elif total_bill > 3000:\n",
    "    discount = total_bill * 0.03\n",
    "else:\n",
    "    discount= total_bill * 0.00\n",
    "    \n",
    "print(f\"\"\"\n",
    "\n",
    "        ABC Store\n",
    "        \n",
    "------------------------------\n",
    "        iteam1: {iteam1}\n",
    "        iteam2: {iteam2}\n",
    "        iteam3: {iteam3}\n",
    "        iteam4: {iteam4}\n",
    "        iteam5: {iteam5}\n",
    "        \n",
    "        Total bill is:          {total_bill}\n",
    "        Discount applied:       {discount} \n",
    "        Payable after discount: {total_bill - discount} \n",
    "        \n",
    "        Thankyou for shopping with us!\n",
    "        \n",
    "        \"\"\")"
   ]
  },
  {
   "cell_type": "markdown",
   "id": "f3f8c29b",
   "metadata": {},
   "source": [
    "## Nested if \n",
    "    - a condition inside a condition "
   ]
  },
  {
   "cell_type": "code",
   "execution_count": 3,
   "id": "ba9557d5",
   "metadata": {},
   "outputs": [],
   "source": [
    "# a customer wants to buy a shirt, levis, black, medium, 2000"
   ]
  },
  {
   "cell_type": "code",
   "execution_count": 4,
   "id": "c3455cc8",
   "metadata": {},
   "outputs": [
    {
     "name": "stdout",
     "output_type": "stream",
     "text": [
      "kese ana huwa? shopping\n",
      "kia lene aye ho? shirt\n",
      "konse brand ki? levis\n",
      "konsa color? black\n",
      "kia size he? medium\n",
      "apki price range kia hen? 2500\n",
      "Ye len, thankyou for your shopping.\n"
     ]
    }
   ],
   "source": [
    "visit = input(\"kese ana huwa? \")  \n",
    "\n",
    "if visit == \"shopping\":  \n",
    "    iteam = input(\"kia lene aye ho? \")  \n",
    "    \n",
    "    if iteam == \"shirt\":  \n",
    "        brand = input(\"konse brand ki? \")  \n",
    "        \n",
    "        if brand == \"levis\":  \n",
    "            color = input(\"konsa color? \")  \n",
    "            \n",
    "            if color == \"black\":  \n",
    "                size = input(\"kia size he? \")  \n",
    "                \n",
    "                if size == \"medium\":  \n",
    "                    budget = float(input(\"apki price range kia hen? \"))  \n",
    "                    \n",
    "                    if budget >= 2000:  \n",
    "                        print(\"Ye len, thankyou for your shopping.\")  \n",
    "                    else:  \n",
    "                        print(\"Sorry, these shirts are expensive.\")  \n",
    "                else:  \n",
    "                    print(\"We only have medium size.\")  \n",
    "            else:  \n",
    "                print(\"Sorry, black color is not available.\")  \n",
    "        else:  \n",
    "            print(\"We only have Levis shirts.\")  \n",
    "    else:  \n",
    "        print(\"We only deal in shirts.\")  \n",
    "else:  \n",
    "    print(\"Thank you for your visit.\")  \n"
   ]
  },
  {
   "cell_type": "code",
   "execution_count": 10,
   "id": "8b5e1395",
   "metadata": {},
   "outputs": [
    {
     "name": "stdout",
     "output_type": "stream",
     "text": [
      "Enter the day of vote cast: thursday\n",
      "Have you CNIC? yes\n",
      "Please enter your name: ali\n",
      "Your vote is casted to your selected candidate, Thankyou for vote.\n"
     ]
    }
   ],
   "source": [
    "election_day = input(\"Enter the day of vote cast: \")\n",
    "if election_day in [\"thursday\",\"sunday\"]:\n",
    "    cnic = input(\"Have you CNIC? \")\n",
    "    if cnic == \"yes\":\n",
    "        voting_list = input(\"Please enter your name: \")\n",
    "        if voting_list in [\"ali\", \"mehmood\"]:\n",
    "            print(\"Your vote is casted to your selected candidate, Thankyou for vote.\")\n",
    "            \n",
    "        else:\n",
    "            print(\"Your name is not in the voting list, Pls go another boot.\")\n",
    "    else:\n",
    "        print(\"Without CNIC you cannot cast vote.\")\n",
    "else:\n",
    "    print(\"This is not the election day.\")"
   ]
  },
  {
   "cell_type": "code",
   "execution_count": 11,
   "id": "31ff044c",
   "metadata": {},
   "outputs": [],
   "source": [
    "easy_load_shop = {\"handsfree\": 250, \"charger\": 500,\n",
    "                  \"cable\": 150, \"airpods\" : 1500,\n",
    "                  \"cover\": 300, \"protector\": 500,\n",
    "                  \"usb\": 500, \"powerbank\": 2000,\n",
    "                  \"sdcard\": 1000, \"stand\": 600\n",
    "                 }"
   ]
  },
  {
   "cell_type": "code",
   "execution_count": 21,
   "id": "5899a271",
   "metadata": {},
   "outputs": [
    {
     "name": "stdout",
     "output_type": "stream",
     "text": [
      "what do you want? airpods\n",
      "How many you want to buy? 10\n",
      "Your bill after amount after discount 13500.0\n"
     ]
    }
   ],
   "source": [
    "item = input(\"what do you want? \")\n",
    "if item in easy_load_shop:\n",
    "    quantity = int(input(\"How many you want to buy? \"))\n",
    "    total = quantity * easy_load_shop[item]\n",
    "    if total >= 10000:\n",
    "        discount= total * 0.10\n",
    "        print(f\"Your bill after amount after discount {total - discount}\")\n",
    "    else:\n",
    "        print(f\"Your bill amount is {total}\")\n",
    "else:\n",
    "    print(\"Sorry your selected iteam is not availabe in shop.\")"
   ]
  },
  {
   "cell_type": "code",
   "execution_count": null,
   "id": "bf499ab9",
   "metadata": {},
   "outputs": [],
   "source": []
  }
 ],
 "metadata": {
  "kernelspec": {
   "display_name": "Python 3 (ipykernel)",
   "language": "python",
   "name": "python3"
  },
  "language_info": {
   "codemirror_mode": {
    "name": "ipython",
    "version": 3
   },
   "file_extension": ".py",
   "mimetype": "text/x-python",
   "name": "python",
   "nbconvert_exporter": "python",
   "pygments_lexer": "ipython3",
   "version": "3.11.5"
  }
 },
 "nbformat": 4,
 "nbformat_minor": 5
}
