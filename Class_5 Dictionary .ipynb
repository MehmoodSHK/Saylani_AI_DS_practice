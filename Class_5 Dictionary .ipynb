{
 "cells": [
  {
   "cell_type": "markdown",
   "id": "3a2f168f",
   "metadata": {},
   "source": [
    "# Dictionary\n",
    "- {}\n",
    "- {key:value} no index\n",
    "- mutable\n",
    "- iterable"
   ]
  },
  {
   "cell_type": "code",
   "execution_count": 1,
   "id": "4ad000b8",
   "metadata": {},
   "outputs": [],
   "source": [
    "# Empty dictionary \n",
    "student1={}"
   ]
  },
  {
   "cell_type": "code",
   "execution_count": 2,
   "id": "023b9906",
   "metadata": {},
   "outputs": [
    {
     "data": {
      "text/plain": [
       "0"
      ]
     },
     "execution_count": 2,
     "metadata": {},
     "output_type": "execute_result"
    }
   ],
   "source": [
    "len(student1)"
   ]
  },
  {
   "cell_type": "code",
   "execution_count": 3,
   "id": "83f63bca",
   "metadata": {},
   "outputs": [],
   "source": [
    "teacher = {\"name\": \"Asad Ali\", \"tid\" : 1234, \"course\": \"Data analytics\", \"age\" : 30.5}"
   ]
  },
  {
   "cell_type": "code",
   "execution_count": 4,
   "id": "7c46080c",
   "metadata": {},
   "outputs": [
    {
     "data": {
      "text/plain": [
       "4"
      ]
     },
     "execution_count": 4,
     "metadata": {},
     "output_type": "execute_result"
    }
   ],
   "source": [
    "len(teacher)"
   ]
  },
  {
   "cell_type": "markdown",
   "id": "69c131f5",
   "metadata": {},
   "source": [
    "# Accessing dictionary data"
   ]
  },
  {
   "cell_type": "code",
   "execution_count": 5,
   "id": "70114323",
   "metadata": {},
   "outputs": [
    {
     "data": {
      "text/plain": [
       "'Data analytics'"
      ]
     },
     "execution_count": 5,
     "metadata": {},
     "output_type": "execute_result"
    }
   ],
   "source": [
    "teacher [\"course\"]"
   ]
  },
  {
   "cell_type": "code",
   "execution_count": 6,
   "id": "a921de4a",
   "metadata": {},
   "outputs": [
    {
     "data": {
      "text/plain": [
       "30.5"
      ]
     },
     "execution_count": 6,
     "metadata": {},
     "output_type": "execute_result"
    }
   ],
   "source": [
    "teacher[\"age\"]"
   ]
  },
  {
   "cell_type": "markdown",
   "id": "8aed18ed",
   "metadata": {},
   "source": [
    "# Adding new value to a dictionary "
   ]
  },
  {
   "cell_type": "code",
   "execution_count": 7,
   "id": "98856b8b",
   "metadata": {},
   "outputs": [],
   "source": [
    "# if the key is not already present in the dictionary , it create a new key value pair \n",
    "teacher [\"email\"] = \"abc@gmail.com\""
   ]
  },
  {
   "cell_type": "code",
   "execution_count": 8,
   "id": "54496c60",
   "metadata": {},
   "outputs": [
    {
     "data": {
      "text/plain": [
       "{'name': 'Asad Ali',\n",
       " 'tid': 1234,\n",
       " 'course': 'Data analytics',\n",
       " 'age': 30.5,\n",
       " 'email': 'abc@gmail.com'}"
      ]
     },
     "execution_count": 8,
     "metadata": {},
     "output_type": "execute_result"
    }
   ],
   "source": [
    "teacher"
   ]
  },
  {
   "cell_type": "markdown",
   "id": "b23b4be5",
   "metadata": {},
   "source": [
    "# Relacing / Updating a new value to a dictionary "
   ]
  },
  {
   "cell_type": "code",
   "execution_count": 9,
   "id": "91e34ca6",
   "metadata": {},
   "outputs": [
    {
     "data": {
      "text/plain": [
       "{'name': 'Asad Ali',\n",
       " 'tid': 1234,\n",
       " 'course': 'Data analytics',\n",
       " 'age': 30.5,\n",
       " 'email': 'abc@yahoo.com'}"
      ]
     },
     "execution_count": 9,
     "metadata": {},
     "output_type": "execute_result"
    }
   ],
   "source": [
    "# if the key is present already in the dictionary , it will update the value if the provided key\n",
    "teacher [\"email\"] = \"abc@yahoo.com\"\n",
    "teacher"
   ]
  },
  {
   "cell_type": "code",
   "execution_count": 10,
   "id": "1ce8e069",
   "metadata": {},
   "outputs": [
    {
     "data": {
      "text/plain": [
       "dict_keys(['name', 'tid', 'course', 'age', 'email'])"
      ]
     },
     "execution_count": 10,
     "metadata": {},
     "output_type": "execute_result"
    }
   ],
   "source": [
    "teacher.keys()"
   ]
  },
  {
   "cell_type": "code",
   "execution_count": 11,
   "id": "28d03cd3",
   "metadata": {},
   "outputs": [
    {
     "data": {
      "text/plain": [
       "dict_values(['Asad Ali', 1234, 'Data analytics', 30.5, 'abc@yahoo.com'])"
      ]
     },
     "execution_count": 11,
     "metadata": {},
     "output_type": "execute_result"
    }
   ],
   "source": [
    "teacher.values()"
   ]
  },
  {
   "cell_type": "code",
   "execution_count": 12,
   "id": "9adb515f",
   "metadata": {},
   "outputs": [
    {
     "data": {
      "text/plain": [
       "dict_items([('name', 'Asad Ali'), ('tid', 1234), ('course', 'Data analytics'), ('age', 30.5), ('email', 'abc@yahoo.com')])"
      ]
     },
     "execution_count": 12,
     "metadata": {},
     "output_type": "execute_result"
    }
   ],
   "source": [
    "teacher.items()"
   ]
  },
  {
   "cell_type": "code",
   "execution_count": 13,
   "id": "15ef9c0c",
   "metadata": {},
   "outputs": [
    {
     "ename": "TypeError",
     "evalue": "pop expected at least 1 argument, got 0",
     "output_type": "error",
     "traceback": [
      "\u001b[1;31m---------------------------------------------------------------------------\u001b[0m",
      "\u001b[1;31mTypeError\u001b[0m                                 Traceback (most recent call last)",
      "Cell \u001b[1;32mIn[13], line 1\u001b[0m\n\u001b[1;32m----> 1\u001b[0m teacher\u001b[38;5;241m.\u001b[39mpop()\n",
      "\u001b[1;31mTypeError\u001b[0m: pop expected at least 1 argument, got 0"
     ]
    }
   ],
   "source": [
    "teacher.pop()"
   ]
  },
  {
   "cell_type": "code",
   "execution_count": null,
   "id": "bc4c44a9",
   "metadata": {},
   "outputs": [],
   "source": [
    "teacher.pop(\"age\")"
   ]
  },
  {
   "cell_type": "code",
   "execution_count": null,
   "id": "30f04d94",
   "metadata": {},
   "outputs": [],
   "source": [
    "teacher"
   ]
  },
  {
   "cell_type": "code",
   "execution_count": null,
   "id": "e889ca39",
   "metadata": {},
   "outputs": [],
   "source": [
    "teacher.pop(\"email\")"
   ]
  },
  {
   "cell_type": "code",
   "execution_count": null,
   "id": "fb94d82a",
   "metadata": {},
   "outputs": [],
   "source": [
    "teacher"
   ]
  },
  {
   "cell_type": "code",
   "execution_count": null,
   "id": "a0deec64",
   "metadata": {},
   "outputs": [],
   "source": [
    "teacher.popitem()"
   ]
  },
  {
   "cell_type": "code",
   "execution_count": null,
   "id": "f7173c3a",
   "metadata": {},
   "outputs": [],
   "source": [
    "teacher"
   ]
  },
  {
   "cell_type": "code",
   "execution_count": null,
   "id": "f7072b43",
   "metadata": {},
   "outputs": [],
   "source": [
    "popped_list= []"
   ]
  },
  {
   "cell_type": "code",
   "execution_count": null,
   "id": "83857681",
   "metadata": {},
   "outputs": [],
   "source": [
    "popped_item = teacher.popitem()\n",
    "popped_list.append(popped_item)"
   ]
  },
  {
   "cell_type": "code",
   "execution_count": null,
   "id": "3f36778e",
   "metadata": {},
   "outputs": [],
   "source": [
    "popped_list"
   ]
  },
  {
   "cell_type": "code",
   "execution_count": null,
   "id": "e2a1f75e",
   "metadata": {},
   "outputs": [],
   "source": [
    " teacher = {\"name\": \"Asad Ali\", \"tid\" : 1234, \"course\": \"Data analytics\", \"age\" : 30.5}"
   ]
  },
  {
   "cell_type": "code",
   "execution_count": null,
   "id": "bebb7f8f",
   "metadata": {},
   "outputs": [],
   "source": [
    "popped_list= []"
   ]
  },
  {
   "cell_type": "code",
   "execution_count": null,
   "id": "a4398184",
   "metadata": {},
   "outputs": [],
   "source": [
    "popped_item = teacher.popitem()\n",
    "popped_list.append(popped_item)"
   ]
  },
  {
   "cell_type": "code",
   "execution_count": null,
   "id": "819456ce",
   "metadata": {},
   "outputs": [],
   "source": [
    "popped_list"
   ]
  },
  {
   "cell_type": "code",
   "execution_count": null,
   "id": "a79f880f",
   "metadata": {},
   "outputs": [],
   "source": [
    "popped_item = teacher.popitem()\n",
    "popped_list.append(popped_item)"
   ]
  },
  {
   "cell_type": "code",
   "execution_count": null,
   "id": "d2e10462",
   "metadata": {},
   "outputs": [],
   "source": [
    "popped_list"
   ]
  },
  {
   "cell_type": "code",
   "execution_count": null,
   "id": "1a92df51",
   "metadata": {},
   "outputs": [],
   "source": [
    "popped_item = teacher.popitem()\n",
    "popped_list.append(popped_item)"
   ]
  },
  {
   "cell_type": "code",
   "execution_count": null,
   "id": "6b947e0a",
   "metadata": {},
   "outputs": [],
   "source": [
    "popped_list"
   ]
  },
  {
   "cell_type": "code",
   "execution_count": null,
   "id": "ed296e98",
   "metadata": {},
   "outputs": [],
   "source": [
    "popped_list= []\n",
    "popped_item = teacher.popitem()\n",
    "popped_list.append(popped_item)\n",
    "popped_list"
   ]
  },
  {
   "cell_type": "code",
   "execution_count": null,
   "id": "ef9b0bad",
   "metadata": {},
   "outputs": [],
   "source": [
    "teacher= {\"name\": \"Asad\", \"tid\": 1234, \"course\": \"data analysis\", \"age\": 30.5}"
   ]
  },
  {
   "cell_type": "code",
   "execution_count": null,
   "id": "c06ea73b",
   "metadata": {},
   "outputs": [],
   "source": [
    "#both are same\n",
    "teacher.get(\"name\"), teacher [\"name\"]"
   ]
  },
  {
   "cell_type": "code",
   "execution_count": 15,
   "id": "196c5795",
   "metadata": {},
   "outputs": [],
   "source": [
    "teacher_details= {\"marital_status\":\"Single\", \"qualification\":\"graduate\", \"city\":\"Karachi\"}"
   ]
  },
  {
   "cell_type": "code",
   "execution_count": 16,
   "id": "e9e7fae0",
   "metadata": {},
   "outputs": [],
   "source": [
    "teacher[\"details\"] = teacher_details"
   ]
  },
  {
   "cell_type": "code",
   "execution_count": 17,
   "id": "bd4af220",
   "metadata": {},
   "outputs": [
    {
     "data": {
      "text/plain": [
       "{'name': 'Asad Ali',\n",
       " 'tid': 1234,\n",
       " 'course': 'Data analytics',\n",
       " 'age': 30.5,\n",
       " 'email': 'abc@yahoo.com',\n",
       " 'details': {'marital_status': 'Single',\n",
       "  'qualification': 'graduate',\n",
       "  'city': 'Karachi'}}"
      ]
     },
     "execution_count": 17,
     "metadata": {},
     "output_type": "execute_result"
    }
   ],
   "source": [
    "teacher"
   ]
  },
  {
   "cell_type": "code",
   "execution_count": 18,
   "id": "eca2c5d8",
   "metadata": {},
   "outputs": [],
   "source": [
    "teacher.update(teacher_details)"
   ]
  },
  {
   "cell_type": "code",
   "execution_count": 19,
   "id": "c0f3d77c",
   "metadata": {},
   "outputs": [
    {
     "data": {
      "text/plain": [
       "{'name': 'Asad Ali',\n",
       " 'tid': 1234,\n",
       " 'course': 'Data analytics',\n",
       " 'age': 30.5,\n",
       " 'email': 'abc@yahoo.com',\n",
       " 'details': {'marital_status': 'Single',\n",
       "  'qualification': 'graduate',\n",
       "  'city': 'Karachi'},\n",
       " 'marital_status': 'Single',\n",
       " 'qualification': 'graduate',\n",
       " 'city': 'Karachi'}"
      ]
     },
     "execution_count": 19,
     "metadata": {},
     "output_type": "execute_result"
    }
   ],
   "source": [
    "teacher"
   ]
  },
  {
   "cell_type": "code",
   "execution_count": 20,
   "id": "7ac3109f",
   "metadata": {},
   "outputs": [
    {
     "data": {
      "text/plain": [
       "{'marital_status': 'Single', 'qualification': 'graduate', 'city': 'Karachi'}"
      ]
     },
     "execution_count": 20,
     "metadata": {},
     "output_type": "execute_result"
    }
   ],
   "source": [
    "teacher.pop(\"details\")"
   ]
  },
  {
   "cell_type": "code",
   "execution_count": 21,
   "id": "d5f77c1a",
   "metadata": {},
   "outputs": [
    {
     "data": {
      "text/plain": [
       "{'name': 'Asad Ali',\n",
       " 'tid': 1234,\n",
       " 'course': 'Data analytics',\n",
       " 'age': 30.5,\n",
       " 'email': 'abc@yahoo.com',\n",
       " 'marital_status': 'Single',\n",
       " 'qualification': 'graduate',\n",
       " 'city': 'Karachi'}"
      ]
     },
     "execution_count": 21,
     "metadata": {},
     "output_type": "execute_result"
    }
   ],
   "source": [
    "teacher"
   ]
  },
  {
   "cell_type": "code",
   "execution_count": null,
   "id": "46769a07",
   "metadata": {},
   "outputs": [],
   "source": []
  }
 ],
 "metadata": {
  "kernelspec": {
   "display_name": "Python 3 (ipykernel)",
   "language": "python",
   "name": "python3"
  },
  "language_info": {
   "codemirror_mode": {
    "name": "ipython",
    "version": 3
   },
   "file_extension": ".py",
   "mimetype": "text/x-python",
   "name": "python",
   "nbconvert_exporter": "python",
   "pygments_lexer": "ipython3",
   "version": "3.11.5"
  }
 },
 "nbformat": 4,
 "nbformat_minor": 5
}
